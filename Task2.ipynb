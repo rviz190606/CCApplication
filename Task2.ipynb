{
 "cells": [
  {
   "cell_type": "code",
   "execution_count": 1,
   "id": "9337ade5-aac2-4ca0-a4b4-c532eaa88cb1",
   "metadata": {},
   "outputs": [],
   "source": [
    "import os\n",
    "os.environ[\"GOOGLE_API_KEY\"] = \"removed\"\n",
    "os.environ[\"WEATHER_API_KEY\"] = \"removed\"  \n",
    "from typing import Annotated\n",
    "import re\n",
    "from typing_extensions import TypedDict\n",
    "\n",
    "from langgraph.graph import StateGraph, START, END\n",
    "from langgraph.graph.message import add_messages\n",
    "\n",
    "\n"
   ]
  },
  {
   "cell_type": "code",
   "execution_count": 2,
   "id": "57b37fc6-2cfa-4e0e-a8bc-4cccb8838e2d",
   "metadata": {},
   "outputs": [],
   "source": [
    "from typing import Annotated\n",
    "\n",
    "from typing_extensions import TypedDict\n",
    "\n",
    "from langgraph.graph import StateGraph, START\n",
    "from langgraph.graph.message import add_messages\n",
    "\n",
    "\n",
    "class State(TypedDict):\n",
    "    messages: Annotated[list, add_messages]\n",
    "\n",
    "\n",
    "graph_builder = StateGraph(State)"
   ]
  },
  {
   "cell_type": "code",
   "execution_count": 3,
   "id": "6bb1ab47-7e20-432e-81e0-3f62bb0688d5",
   "metadata": {},
   "outputs": [
    {
     "data": {
      "text/plain": [
       "<langgraph.graph.state.StateGraph at 0x7356882b2a80>"
      ]
     },
     "execution_count": 3,
     "metadata": {},
     "output_type": "execute_result"
    }
   ],
   "source": [
    "import os\n",
    "from langchain.chat_models import init_chat_model\n",
    "\n",
    "\n",
    "\n",
    "llm = init_chat_model(\"google_genai:gemini-2.0-flash\")\n",
    "def chatbot(state: State):\n",
    "    return {\"messages\": [llm.invoke(state[\"messages\"])]}\n",
    "\n",
    "graph_builder.add_node(\"chatbot\", chatbot)"
   ]
  },
  {
   "cell_type": "code",
   "execution_count": 4,
   "id": "aa4d15e2-434e-48fa-8411-4d5e6a639256",
   "metadata": {},
   "outputs": [
    {
     "data": {
      "text/plain": [
       "<langgraph.graph.state.StateGraph at 0x7356882b2a80>"
      ]
     },
     "execution_count": 4,
     "metadata": {},
     "output_type": "execute_result"
    }
   ],
   "source": [
    "graph_builder.add_edge(START, \"chatbot\")"
   ]
  },
  {
   "cell_type": "code",
   "execution_count": 5,
   "id": "73ffe22e-e818-462e-a11a-9cc167c5f0c0",
   "metadata": {},
   "outputs": [],
   "source": [
    "import requests\n",
    "import os\n",
    "\n",
    "def weather_node(state: State):\n",
    "    last_msg = state[\"messages\"][-1]\n",
    "    content = last_msg.content if hasattr(last_msg, \"content\") else last_msg[\"content\"]\n",
    "    \n",
    "    \n",
    "    match = re.search(r\"in ([a-zA-Z\\s]+)\", content)\n",
    "    city = match.group(1).strip() if match else \"London\"  \n",
    "    \n",
    "    try:\n",
    "        url = f\"http://api.openweathermap.org/data/2.5/weather?q={city}&appid={GOOGLE_API_KEY}&units=metric\"\n",
    "        response = requests.get(url)\n",
    "        data = response.json()\n",
    "\n",
    "        if data.get(\"cod\") != 200:\n",
    "            raise Exception(data.get(\"message\", \"Unknown error\"))\n",
    "\n",
    "        weather = data[\"weather\"][0][\"description\"]\n",
    "        temp = data[\"main\"][\"temp\"]\n",
    "        result = f\"The weather in {city} is {weather} with a temperature of {temp}°C.\"\n",
    "\n",
    "    except Exception as e:\n",
    "        result = f\"Failed to fetch weather: {str(e)}\"\n",
    "\n",
    "    return {\"messages\": [{\"role\": \"assistant\", \"content\": result}]}\n"
   ]
  },
  {
   "cell_type": "code",
   "execution_count": 6,
   "id": "cc537547-07bb-4699-ae00-24559bbdeac3",
   "metadata": {},
   "outputs": [],
   "source": [
    "import re\n",
    "\n",
    "def calculator(state: State):\n",
    "    last_msg = state[\"messages\"][-1][\"content\"]\n",
    "    try:\n",
    "        result = eval(last_msg, {\"__builtins__\": {}}, {})\n",
    "        response = f\"Result: {result}\"\n",
    "    except Exception as e:\n",
    "        response = f\"Calculator error: {e}\"\n",
    "    return {\"messages\": [{\"role\": \"assistant\", \"content\": response}]}\n"
   ]
  },
  {
   "cell_type": "code",
   "execution_count": 7,
   "id": "eccd1713-1f85-4f7b-a7f1-71afe9a16722",
   "metadata": {},
   "outputs": [],
   "source": [
    "def router(state: State):\n",
    "    last_msg = state[\"messages\"][-1]\n",
    "    content = last_msg.content if hasattr(last_msg, \"content\") else last_msg[\"content\"]\n",
    "    \n",
    "    if re.search(r\"weather|temperature|forecast\", content, re.IGNORECASE):\n",
    "        return {\"next\": \"weather\"}\n",
    "    elif re.match(r\"^[\\d\\s\\.\\+\\-\\*\\/\\(\\)]+$\", content):\n",
    "        return {\"next\": \"calculator\"}\n",
    "    else:\n",
    "        return {\"next\": \"chatbot\"}\n"
   ]
  },
  {
   "cell_type": "code",
   "execution_count": 8,
   "id": "f6512cc6-e656-4c45-93d9-5f509a9a6885",
   "metadata": {},
   "outputs": [
    {
     "data": {
      "text/plain": [
       "<langgraph.graph.state.StateGraph at 0x7356882b2a80>"
      ]
     },
     "execution_count": 8,
     "metadata": {},
     "output_type": "execute_result"
    }
   ],
   "source": [
    "graph_builder.add_node(\"calculator\", calculator)\n",
    "graph_builder.add_node(\"router\", router)\n",
    "\n",
    "graph_builder.set_entry_point(\"router\")\n",
    "\n",
    "graph_builder.add_node(\"weather\", weather_node)\n",
    "graph_builder.add_conditional_edges(\"router\", router)"
   ]
  },
  {
   "cell_type": "code",
   "execution_count": 11,
   "id": "abc60320-81b3-4669-a88b-474d816c11c7",
   "metadata": {},
   "outputs": [
    {
     "name": "stdout",
     "output_type": "stream",
     "text": [
      "{'messages': [HumanMessage(content='weather in bengaluru', additional_kwargs={}, response_metadata={}, id='f9b033ba-1250-4488-a970-8fae1ad349f8'), AIMessage(content=\"The weather in Bengaluru is currently **partly cloudy**. The temperature is around **25°C (77°F)**, but it feels like **27°C (81°F)**.\\n\\nHere's a more detailed breakdown:\\n\\n*   **Condition:** Partly cloudy\\n*   **Temperature:** 25°C (77°F)\\n*   **Feels Like:** 27°C (81°F)\\n*   **Humidity:** 69%\\n*   **Wind:** 11 km/h\\n\\nI recommend checking a reliable weather app or website for the most up-to-date information, as conditions can change quickly.\", additional_kwargs={}, response_metadata={'prompt_feedback': {'block_reason': 0, 'safety_ratings': []}, 'finish_reason': 'STOP', 'model_name': 'gemini-2.0-flash', 'safety_ratings': []}, id='run--632e2eb9-8beb-48e7-bcfe-01bd99e3b8c4-0', usage_metadata={'input_tokens': 4, 'output_tokens': 143, 'total_tokens': 147, 'input_token_details': {'cache_read': 0}})]}\n",
      "{'messages': [HumanMessage(content='which year was IITG founded', additional_kwargs={}, response_metadata={}, id='289e908c-f5ca-44d1-b78e-5d5d6aee8d27'), AIMessage(content='IIT Guwahati (IITG) was founded in **1994**.', additional_kwargs={}, response_metadata={'prompt_feedback': {'block_reason': 0, 'safety_ratings': []}, 'finish_reason': 'STOP', 'model_name': 'gemini-2.0-flash', 'safety_ratings': []}, id='run--a0924f0d-972f-42d3-9da8-bc01e10e0523-0', usage_metadata={'input_tokens': 6, 'output_tokens': 16, 'total_tokens': 22, 'input_token_details': {'cache_read': 0}})]}\n",
      "{'messages': [HumanMessage(content='7*(9+22)', additional_kwargs={}, response_metadata={}, id='8c5db2ae-b1c6-49c6-95d7-1810f848804f'), AIMessage(content='7 * (9 + 22) = 7 * 31 = 217', additional_kwargs={}, response_metadata={'prompt_feedback': {'block_reason': 0, 'safety_ratings': []}, 'finish_reason': 'STOP', 'model_name': 'gemini-2.0-flash', 'safety_ratings': []}, id='run--526594d9-d648-4dae-9ac4-fce323fad23d-0', usage_metadata={'input_tokens': 7, 'output_tokens': 22, 'total_tokens': 29, 'input_token_details': {'cache_read': 0}})]}\n"
     ]
    }
   ],
   "source": [
    "app = graph_builder.compile()\n",
    "\n",
    "# Example usage\n",
    "output = app.invoke({\"messages\": [{\"role\": \"user\", \"content\": \"weather in bengaluru\"}]})\n",
    "print(output)\n",
    "output = app.invoke({\"messages\": [{\"role\": \"user\", \"content\": \"which year was IITG founded\"}]})\n",
    "print(output)\n",
    "output = app.invoke({\"messages\": [{\"role\": \"user\", \"content\": \"7*(9+22)\"}]})\n",
    "print(output)\n",
    "\n",
    "\n",
    "\n"
   ]
  },
  {
   "cell_type": "code",
   "execution_count": 12,
   "id": "50a01ef3-6990-41dd-9530-a441858a7851",
   "metadata": {},
   "outputs": [],
   "source": [
    "from IPython.display import Image, display\n",
    "\n",
    "try:\n",
    "    display(Image(graph.get_graph().draw_mermaid_png()))\n",
    "except Exception:\n",
    "  \n",
    "    pass"
   ]
  },
  {
   "cell_type": "code",
   "execution_count": null,
   "id": "fe0a1c29-1655-4558-9ff1-652b022f9e18",
   "metadata": {},
   "outputs": [],
   "source": []
  },
  {
   "cell_type": "code",
   "execution_count": null,
   "id": "8f347a96-1bde-4b92-bb5d-033b21ba3acc",
   "metadata": {},
   "outputs": [],
   "source": []
  },
  {
   "cell_type": "code",
   "execution_count": null,
   "id": "bb993fcb-eeef-4360-9ca6-b66aa1176a44",
   "metadata": {},
   "outputs": [],
   "source": []
  },
  {
   "cell_type": "code",
   "execution_count": null,
   "id": "aad994d6-76db-4d51-a861-1baa0c0466cd",
   "metadata": {},
   "outputs": [],
   "source": []
  },
  {
   "cell_type": "code",
   "execution_count": null,
   "id": "dd1eb46a-d0b7-47c9-84bf-c5e94573eb58",
   "metadata": {},
   "outputs": [],
   "source": []
  }
 ],
 "metadata": {
  "kernelspec": {
   "display_name": "Python 3 (ipykernel)",
   "language": "python",
   "name": "python3"
  },
  "language_info": {
   "codemirror_mode": {
    "name": "ipython",
    "version": 3
   },
   "file_extension": ".py",
   "mimetype": "text/x-python",
   "name": "python",
   "nbconvert_exporter": "python",
   "pygments_lexer": "ipython3",
   "version": "3.12.3"
  }
 },
 "nbformat": 4,
 "nbformat_minor": 5
}
